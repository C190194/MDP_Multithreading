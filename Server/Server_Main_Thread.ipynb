{
 "cells": [
  {
   "cell_type": "code",
   "execution_count": null,
   "metadata": {},
   "outputs": [],
   "source": [
    "import socket\n",
    "import threading\n",
    "import cv2\n",
    "import pickle\n",
    "import struct"
   ]
  },
  {
   "cell_type": "code",
   "execution_count": null,
   "metadata": {},
   "outputs": [],
   "source": [
    "def camera_server(host='', port=10050):\n",
    "   global sock_server\n",
    "   server_socket = socket.socket(socket.AF_INET, socket.SOCK_STREAM)\n",
    "   server_socket.setsockopt(socket.SOL_SOCKET, socket.SO_REUSEADDR, 1)\n",
    "   server_socket.bind((host, port))\n",
    "   server_socket.listen(1)\n",
    "   while True:\n",
    "      sock_server, sockname = server_socket.accept()\n",
    "      break\n",
    "\n",
    "\n",
    "def receiveTCP(sock):\n",
    "   message = sock.recv(32)\n",
    "   return message\n",
    "\n",
    "\n",
    "def stopAlarm():\n",
    "   pass\n",
    "\n",
    "\n",
    "def startAlarm():\n",
    "   pass\n",
    "\n",
    "\n",
    "class OrderWaiter(threading.Thread):\n",
    "   def __init__(self, **kwargs):\n",
    "      super(OrderWaiter, self).__init__(**kwargs)\n",
    "\n",
    "   def run(self):\n",
    "      global sock_server\n",
    "      while True:\n",
    "         try:\n",
    "            message = receiveTCP(sock_server)\n",
    "         except Exception:\n",
    "            pass\n",
    "         else:\n",
    "            if message != '':\n",
    "               if message == 'stop alarm':\n",
    "                  stopAlarm()\n",
    "               elif message == 'start alarm':\n",
    "                  startAlarm()\n",
    "               sock_server.close()\n",
    "               break\n",
    "\n",
    "   "
   ]
  },
  {
   "cell_type": "code",
   "execution_count": null,
   "metadata": {},
   "outputs": [],
   "source": [
    "# Main\n",
    "sock_server = None\n",
    "start_server() # pass the host and the port as parameters\n",
    "OrderWaiter().start() #start the thread which will wait for the order"
   ]
  },
  {
   "cell_type": "code",
   "execution_count": null,
   "metadata": {},
   "outputs": [],
   "source": [
    "# Start server\n",
    "class Connect_PC_Client(threading.Thread):\n",
    "server_socket = socket.socket(socket.AF_INET,socket.SOCK_STREAM)\n",
    "host_name  = socket.gethostname()\n",
    "host_ip = socket.gethostbyname(host_name)\n",
    "print('HOST IP:',host_ip)\n",
    "port = 10050\n",
    "socket_address = (host_ip,port)\n",
    "print('Socket created')\n",
    "# bind the socket to the host. \n",
    "#The values passed to bind() depend on the address family of the socket\n",
    "server_socket.bind(socket_address)\n",
    "print('Socket bind complete')\n",
    "#listen() enables a server to accept() connections\n",
    "#listen() has a backlog parameter. \n",
    "#It specifies the number of unaccepted connections that the system will allow before refusing new connections.\n",
    "server_socket.listen(5)\n",
    "print('Socket now listening')"
   ]
  },
  {
   "cell_type": "code",
   "execution_count": null,
   "metadata": {},
   "outputs": [],
   "source": [
    "# Wait for client to connect\n",
    "while True:\n",
    "    client_socket,addr = server_socket.accept()\n",
    "    print('Connection from:',addr)\n",
    "    if client_socket:\n",
    "        # create a thread\n",
    "        thread = Thread(target=task)\n",
    "        # run the thread\n",
    "        thread.start()\n",
    "        # wait for the thread to finish\n",
    "        print('Waiting for the thread...')\n",
    "        thread.join()\n",
    "        \n",
    "        vid = cv2.VideoCapture(0)\n",
    "        while(vid.isOpened()):\n",
    "            img,frame = vid.read()\n",
    "            a = pickle.dumps(frame)\n",
    "            message = struct.pack(\"Q\",len(a))+a\n",
    "            client_socket.sendall(message)\n",
    "            cv2.imshow('Sending...',frame)\n",
    "            key = cv2.waitKey(2) \n",
    "            # print(key) # -1 will be returned if no key is pressed\n",
    "            if key == 27:\n",
    "                client_socket.close()"
   ]
  }
 ],
 "metadata": {
  "kernelspec": {
   "display_name": "Python 3",
   "language": "python",
   "name": "python3"
  },
  "language_info": {
   "codemirror_mode": {
    "name": "ipython",
    "version": 3
   },
   "file_extension": ".py",
   "mimetype": "text/x-python",
   "name": "python",
   "nbconvert_exporter": "python",
   "pygments_lexer": "ipython3",
   "version": "3.7.4"
  }
 },
 "nbformat": 4,
 "nbformat_minor": 2
}
